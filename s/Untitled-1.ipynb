{
 "metadata": {
  "language_info": {
   "codemirror_mode": {
    "name": "ipython",
    "version": 3
   },
   "file_extension": ".py",
   "mimetype": "text/x-python",
   "name": "python",
   "nbconvert_exporter": "python",
   "pygments_lexer": "ipython3",
   "version": "3.9.2-final"
  },
  "orig_nbformat": 2,
  "kernelspec": {
   "name": "python3",
   "display_name": "Python 3.9.2 64-bit",
   "metadata": {
    "interpreter": {
     "hash": "b583332554d59b4b866f567c389a0435ef19b496ca21e06f7f035fe18d162634"
    }
   }
  }
 },
 "nbformat": 4,
 "nbformat_minor": 2,
 "cells": [
  {
   "cell_type": "code",
   "execution_count": 1,
   "metadata": {},
   "outputs": [],
   "source": [
    "import cv2\n",
    "import numpy\n",
    "import matplotlib as plt\n",
    "#cap = cv2.VideoCapture(\"C:\\\\Users\\\\Asus\\\\Pictures\\\\Camera Roll\\\\mrs.mp4\")\n",
    "img=cv2.imread(\"D:\\python\\powershell opencv\\1.jpg\")\n",
    "cv2.imshow(\"av\",img)\n",
    "#while(True):\n",
    "    # Capture frame-by-frame\n",
    " #   ret, frame = cap.read()\n",
    "\n",
    "    # Display the resulting frame\n",
    "  #  cv2.imshow('frame', frame)\n",
    "   # if cv2.waitKey(1) & 0xFF == ord('q'):\n",
    "    #    break\n",
    "\n",
    "# When everything done, release the capture\n",
    "#cap.release()\n",
    "#cv2.destroyAllWindows()\n"
   ]
  },
  {
   "cell_type": "code",
   "execution_count": null,
   "metadata": {},
   "outputs": [],
   "source": []
  }
 ]
}